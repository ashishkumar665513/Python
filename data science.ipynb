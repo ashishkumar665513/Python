{
 "cells": [
  {
   "cell_type": "markdown",
   "id": "915225de-31ea-45f6-9a7a-7c509e7fadc9",
   "metadata": {},
   "source": []
  },
  {
   "cell_type": "code",
   "execution_count": 3,
   "id": "639944b9-bb86-43d9-ad25-1bc1f8e22ed3",
   "metadata": {},
   "outputs": [
    {
     "name": "stdout",
     "output_type": "stream",
     "text": [
      "ashish\n"
     ]
    }
   ],
   "source": [
    "print(\"ashish\")"
   ]
  },
  {
   "cell_type": "markdown",
   "id": "7ea90943-e149-4a37-a334-e81490bc3ff5",
   "metadata": {},
   "source": [
    "here i am printing my name using the python programming language."
   ]
  },
  {
   "cell_type": "code",
   "execution_count": 5,
   "id": "3e0bc475-6c5e-4257-995e-fd52a542a139",
   "metadata": {},
   "outputs": [
    {
     "data": {
      "text/plain": [
       "50"
      ]
     },
     "execution_count": 5,
     "metadata": {},
     "output_type": "execute_result"
    }
   ],
   "source": [
    "24+26"
   ]
  },
  {
   "cell_type": "code",
   "execution_count": 7,
   "id": "98e555dc-8159-4117-b142-32786ba6cdba",
   "metadata": {},
   "outputs": [
    {
     "data": {
      "text/plain": [
       "4.0"
      ]
     },
     "execution_count": 7,
     "metadata": {},
     "output_type": "execute_result"
    }
   ],
   "source": [
    "24/6"
   ]
  },
  {
   "cell_type": "code",
   "execution_count": 9,
   "id": "a061a332-2b49-4c9d-b5d6-4900284b85cd",
   "metadata": {},
   "outputs": [
    {
     "data": {
      "text/plain": [
       "45"
      ]
     },
     "execution_count": 9,
     "metadata": {},
     "output_type": "execute_result"
    }
   ],
   "source": [
    "9*5"
   ]
  },
  {
   "cell_type": "code",
   "execution_count": null,
   "id": "5e4911ad-14f3-4eed-8830-ca7bb12d4932",
   "metadata": {},
   "outputs": [],
   "source": []
  }
 ],
 "metadata": {
  "kernelspec": {
   "display_name": "Python 3 (ipykernel)",
   "language": "python",
   "name": "python3"
  },
  "language_info": {
   "codemirror_mode": {
    "name": "ipython",
    "version": 3
   },
   "file_extension": ".py",
   "mimetype": "text/x-python",
   "name": "python",
   "nbconvert_exporter": "python",
   "pygments_lexer": "ipython3",
   "version": "3.12.4"
  }
 },
 "nbformat": 4,
 "nbformat_minor": 5
}
